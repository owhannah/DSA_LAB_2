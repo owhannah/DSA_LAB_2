{
 "cells": [
  {
   "cell_type": "code",
   "execution_count": 1,
   "metadata": {},
   "outputs": [
    {
     "name": "stdout",
     "output_type": "stream",
     "text": [
      "******\n",
      "*****\n",
      "****\n",
      "***\n",
      "**\n",
      "*\n"
     ]
    }
   ],
   "source": [
    "# exercise 4 lab 2\n",
    "\n",
    "# generate an inverted right triangle of height n\n",
    "\n",
    "# input the height of triangle\n",
    "n = int(input(\"Enter the height of the triangle: \"))\n",
    "\n",
    "# looping\n",
    "for i in range(n, 0, -1):  # from n and decrease to 1\n",
    "    print('*' * i)"
   ]
  }
 ],
 "metadata": {
  "kernelspec": {
   "display_name": "Python 3",
   "language": "python",
   "name": "python3"
  },
  "language_info": {
   "codemirror_mode": {
    "name": "ipython",
    "version": 3
   },
   "file_extension": ".py",
   "mimetype": "text/x-python",
   "name": "python",
   "nbconvert_exporter": "python",
   "pygments_lexer": "ipython3",
   "version": "3.12.1"
  }
 },
 "nbformat": 4,
 "nbformat_minor": 2
}
