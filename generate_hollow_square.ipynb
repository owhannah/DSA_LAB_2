{
 "cells": [
  {
   "cell_type": "code",
   "execution_count": 3,
   "metadata": {},
   "outputs": [
    {
     "name": "stdout",
     "output_type": "stream",
     "text": [
      "xxxxxx\n",
      "x    x\n",
      "x    x\n",
      "x    x\n",
      "x    x\n",
      "xxxxxx\n"
     ]
    }
   ],
   "source": [
    "# exercise 3 lab 2\n",
    "\n",
    "# generate a hollow square based on the + integer input side length n\n",
    "\n",
    "# input the side length\n",
    "n = int(input(\"Enter the side length of the square: \"))\n",
    "\n",
    "# looping\n",
    "for i in range(n):\n",
    "    if i == 0 or i == n - 1: # for first and last row\n",
    "        print('x' * n)\n",
    "    else:          # for middle row\n",
    "        print('x' + ' ' * (n - 2) + 'x')\n",
    "\n",
    "\n"
   ]
  }
 ],
 "metadata": {
  "kernelspec": {
   "display_name": "Python 3",
   "language": "python",
   "name": "python3"
  },
  "language_info": {
   "codemirror_mode": {
    "name": "ipython",
    "version": 3
   },
   "file_extension": ".py",
   "mimetype": "text/x-python",
   "name": "python",
   "nbconvert_exporter": "python",
   "pygments_lexer": "ipython3",
   "version": "3.12.1"
  }
 },
 "nbformat": 4,
 "nbformat_minor": 2
}
