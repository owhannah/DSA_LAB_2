{
 "cells": [
  {
   "cell_type": "code",
   "execution_count": 25,
   "metadata": {},
   "outputs": [
    {
     "name": "stdout",
     "output_type": "stream",
     "text": [
      "2 raised to the power of 7 is: 128\n"
     ]
    }
   ],
   "source": [
    "# exercise 1 lab 2\n",
    "\n",
    "# recursive method\n",
    "\n",
    "def power(base, exponent):\n",
    "    # base case: if exponent is 0, return 1 because any number raised to the power of 0 is 1\n",
    "    if exponent == 0:\n",
    "        return 1\n",
    "    # recursive case: multiply the base by the result of the function with a reduced exponent\n",
    "    else:\n",
    "        return base * power(base, exponent - 1)\n",
    "\n",
    "# output:\n",
    "result = power(2, 7)\n",
    "print(f\"2 raised to the power of 7 is: {result}\")\n",
    "\n",
    " "
   ]
  }
 ],
 "metadata": {
  "kernelspec": {
   "display_name": "Python 3 (ipykernel)",
   "language": "python",
   "name": "python3"
  },
  "language_info": {
   "codemirror_mode": {
    "name": "ipython",
    "version": 3
   },
   "file_extension": ".py",
   "mimetype": "text/x-python",
   "name": "python",
   "nbconvert_exporter": "python",
   "pygments_lexer": "ipython3",
   "version": "3.12.5"
  }
 },
 "nbformat": 4,
 "nbformat_minor": 4
}
