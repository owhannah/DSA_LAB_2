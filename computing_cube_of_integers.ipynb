{
 "cells": [
  {
   "cell_type": "code",
   "execution_count": 3,
   "metadata": {},
   "outputs": [
    {
     "name": "stdout",
     "output_type": "stream",
     "text": [
      "The cubes of elements are: \n",
      "27\n",
      "1000\n",
      "8000\n"
     ]
    }
   ],
   "source": [
    "# exercise 2 lab 2\n",
    "\n",
    "# compute for the cube of integers\n",
    "\n",
    "# step 1: input the size of array\n",
    "size = int(input(\"Enter the size of array: \"))\n",
    "\n",
    "# step 2: input the elements of array\n",
    "elements = list(map(int, input(\"Enter the elements separated by space: \").split()))\n",
    "\n",
    "# step 3: display the cube of each element\n",
    "print(\"The cubes of elements are: \")\n",
    "i = 0\n",
    "while i < size:\n",
    "    print(elements[i] ** 3)\n",
    "    i += 1\n"
   ]
  }
 ],
 "metadata": {
  "kernelspec": {
   "display_name": "Python 3",
   "language": "python",
   "name": "python3"
  },
  "language_info": {
   "codemirror_mode": {
    "name": "ipython",
    "version": 3
   },
   "file_extension": ".py",
   "mimetype": "text/x-python",
   "name": "python",
   "nbconvert_exporter": "python",
   "pygments_lexer": "ipython3",
   "version": "3.12.1"
  }
 },
 "nbformat": 4,
 "nbformat_minor": 2
}
